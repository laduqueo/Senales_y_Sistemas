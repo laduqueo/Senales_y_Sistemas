{
  "nbformat": 4,
  "nbformat_minor": 0,
  "metadata": {
    "colab": {
      "provenance": [],
      "include_colab_link": true
    },
    "kernelspec": {
      "name": "python3",
      "display_name": "Python 3"
    },
    "language_info": {
      "name": "python"
    }
  },
  "cells": [
    {
      "cell_type": "markdown",
      "metadata": {
        "id": "view-in-github",
        "colab_type": "text"
      },
      "source": [
        "<a href=\"https://colab.research.google.com/github/laduqueo/Senales_y_Sistemas/blob/main/ejercicios_Laplace.ipynb\" target=\"_parent\"><img src=\"https://colab.research.google.com/assets/colab-badge.svg\" alt=\"Open In Colab\"/></a>"
      ]
    },
    {
      "cell_type": "markdown",
      "source": [
        "# 2. Transformada de Laplace"
      ],
      "metadata": {
        "id": "4g_PxlcSMZzr"
      }
    },
    {
      "cell_type": "markdown",
      "source": [
        "### * Consultar y realizar los ejercicios propuestos en el cuaderno de Colab Convolucion.\n",
        "\n",
        "link: https://github.com/laduqueo/Senales_y_Sistemas/blob/main/1_Convolucion.ipynb"
      ],
      "metadata": {
        "id": "2avKfdHHMvRm"
      }
    },
    {
      "cell_type": "markdown",
      "source": [
        "### *  Consultar y realizar los ejercicios propuestos en el cuaderno de Colab Respuesta impulso.\n",
        "\n",
        "link: https://github.com/laduqueo/Senales_y_Sistemas/blob/main/2_Respuesta_Impulso.ipynb"
      ],
      "metadata": {
        "id": "y6sNxCLiNE-d"
      }
    },
    {
      "cell_type": "markdown",
      "source": [
        "### *  Demuestre si los siguientes sistemas de la forma y = H{x}, son sistemas lineales e invariantes en el tiempo (SLIT) (simule los sistemas en Python):"
      ],
      "metadata": {
        "id": "o4QYhqe_NaSn"
      }
    },
    {
      "cell_type": "markdown",
      "source": [
        "* $\n",
        "y[n] = \\frac{x[n]}{3} + 2x[n - 1] - y[n - 1]\n",
        "$\n",
        "\n",
        "El sistema $ H\\{\\cdot\\} $ es **lineal** si cumple el **principio de superposición**:\n",
        "\n",
        "**Si**:\n",
        "\n",
        "$x[n] = a_1 x_1[n] + a_2 x_2[n]$\n",
        "\n",
        "Entonces debe cumplirse que:\n",
        "\n",
        "$y[n] = H\\{x[n]\\} = a_1 H\\{x_1[n]\\} + a_2 H\\{x_2[n]\\}$\n",
        "\n",
        "\n",
        "Sea:\n",
        "\n",
        "$y_1[n] = H\\{x_1[n]\\} = \\frac{1}{3}x_1[n] + 2x_1[n-1] - y_1[n-1]$\n",
        "\n",
        "$y_2[n] = H\\{x_2[n]\\} = \\frac{1}{3}x_2[n] + 2x_2[n-1] - y_2[n-1]$\n",
        "\n",
        "Ahora definimos:\n",
        "\n",
        "$x[n] = a_1 x_1[n] + a_2 x_2[n]$\n",
        "\n",
        "Sustituimos en la ecuación del sistema:\n",
        "\n",
        "$y[n] = \\frac{1}{3}(a_1 x_1[n] + a_2 x_2[n]) + 2(a_1 x_1[n-1] + a_2 x_2[n-1]) - y[n-1]$\n",
        "\n",
        "el último término no se puede separar en:\n",
        "\n",
        "$-y[n-1] \\neq -a_1 y_1[n-1] - a_2 y_2[n-1]$\n",
        "\n",
        "Entonces **no se cumple** el principio de superposición por culpa del término **recursivo** $y[n-1]$\n",
        "\n",
        "El sistema **NO es lineal**.\n",
        "\n",
        "---\n",
        "\n",
        "¿Es invariante en el tiempo?\n",
        "\n",
        "Definición: Un sistema es **invariante en el tiempo** si **desplazar la entrada** desplaza la salida de igual forma:\n",
        "\n",
        "**Si**:\n",
        "\n",
        "$x[n] \\rightarrow x[n - n_0]\n",
        "\\quad \\Rightarrow \\quad\n",
        "y[n] \\rightarrow y[n - n_0]$\n",
        "\n",
        "\n",
        "Probamos esto aplicando un retardo en la entrada:\n",
        "\n",
        "$x_1[n] = x[n - n_0] \\quad \\Rightarrow \\quad\n",
        "y_1[n] = \\frac{1}{3}x[n - n_0] + 2x[n - n_0 - 1] - y_1[n - 1]\n",
        "$\n",
        "\n",
        "Comparemos con:\n",
        "\n",
        "$y[n - n_0] = \\frac{1}{3}x[n - n_0] + 2x[n - n_0 - 1] - y[n - n_0 - 1]$\n",
        "\n",
        "El sistema **sí es invariante en el tiempo**.\n"
      ],
      "metadata": {
        "id": "LrSH9AzqSc5u"
      }
    },
    {
      "cell_type": "code",
      "source": [
        "import numpy as np\n",
        "import matplotlib.pyplot as plt\n",
        "\n",
        "# Señal de entrada x[n]\n",
        "n = np.arange(0, 20)\n",
        "x = np.zeros_like(n)\n",
        "x[0] = 1  # impulso unitario\n",
        "\n",
        "# Salida y[n]\n",
        "y = np.zeros_like(n, dtype=float)\n",
        "\n",
        "# Aplicar la ecuación: y[n] = x[n]/3 + 2x[n-1] - y[n-1]\n",
        "for i in range(1, len(n)):\n",
        "    y[i] = (1/3)*x[i] + 2*x[i-1] - y[i-1]\n",
        "\n",
        "# Graficar\n",
        "plt.stem(n, x, linefmt='C0-', markerfmt='C0o', basefmt='k', label='x[n]')\n",
        "plt.stem(n, y, linefmt='C1-', markerfmt='C1s', basefmt='k', label='y[n]')\n",
        "plt.xlabel('n')\n",
        "plt.ylabel('Amplitud')\n",
        "plt.title('Simulación del sistema: y[n] = x[n]/3 + 2x[n-1] - y[n-1]')\n",
        "plt.grid(True)\n",
        "plt.legend()\n",
        "plt.show()\n"
      ],
      "metadata": {
        "colab": {
          "base_uri": "https://localhost:8080/",
          "height": 472
        },
        "id": "F2zLqieiTyjS",
        "outputId": "366b7141-9998-45fb-954b-cd34c6ab335b"
      },
      "execution_count": null,
      "outputs": [
        {
          "output_type": "display_data",
          "data": {
            "text/plain": [
              "<Figure size 640x480 with 1 Axes>"
            ],
            "image/png": "[encoded data removed]"
          },
          "metadata": {}
        }
      ]
    },
    {
      "cell_type": "markdown",
      "source": [
        "* $y[n] = \\sum_{k=-\\infty}^{n} x^2[k]$\n",
        "\n",
        "Verificación de Linealidad\n",
        "\n",
        "Entrada:\n",
        "\n",
        "$$\n",
        "x[n] = a_1 x_1[n] + a_2 x_2[n]\n",
        "$$\n",
        "\n",
        "Salida:\n",
        "\n",
        "$$\n",
        "y[n] = \\sum_{k=-\\infty}^{n} \\left( a_1 x_1[k] + a_2 x_2[k] \\right)^2\n",
        "$$\n",
        "\n",
        "\n",
        "$$\n",
        "\\left( a_1 x_1[k] + a_2 x_2[k] \\right)^2 =\n",
        "a_1^2 x_1^2[k] + 2a_1 a_2 x_1[k] x_2[k] + a_2^2 x_2^2[k]\n",
        "$$\n",
        "\n",
        "Entonces:\n",
        "\n",
        "$$\n",
        "y[n] = \\sum_{k=-\\infty}^{n} \\left( a_1^2 x_1^2[k] + 2a_1 a_2 x_1[k] x_2[k] + a_2^2 x_2^2[k] \\right)\n",
        "$$\n",
        "\n",
        "Esta suma **no es igual** a:\n",
        "\n",
        "$$\n",
        "a_1 \\sum_{k=-\\infty}^{n} x_1^2[k] + a_2 \\sum_{k=-\\infty}^{n} x_2^2[k] = a_1 y_1[n] + a_2 y_2[n]\n",
        "$$\n",
        "\n",
        " **El sistema NO es lineal**, porque aparece un **término cruzado** $$2a_1 a_2 x_1[k] x_2[k]$$ que impide aplicar el principio de superposición.\n",
        "\n",
        "---\n",
        "¿Es Invariante en el Tiempo?\n",
        "\n",
        "Queremos verificar si al desplazar la entrada, la salida también se desplaza de igual forma.\n",
        "\n",
        "Entrada desplazada:\n",
        "\n",
        "$$\n",
        "x_1[n] = x[n - n_0]\n",
        "$$\n",
        "\n",
        "Evaluamos la salida con la entrada desplazada:\n",
        "\n",
        "$$\n",
        "y_1[n] = \\sum_{k=-\\infty}^{n} x^2[k - n_0]\n",
        "$$\n",
        "\n",
        "Hacemos el cambio de variable $$m = k - n_0$$, entonces $$k = m + n_0$$, y el nuevo límite superior es $$m = n - n_0$$:\n",
        "\n",
        "$$\n",
        "y_1[n] = \\sum_{m=-\\infty}^{n - n_0} x^2[m]\n",
        "$$\n",
        "\n",
        "Entonces:\n",
        "\n",
        "$$\n",
        "y_1[n] = y[n - n_0]\n",
        "$$\n",
        "\n",
        "**El sistema sí es invariante en el tiempo**, ya que desplazar la entrada produce el mismo desplazamiento en la salida.\n"
      ],
      "metadata": {
        "id": "ZI3XF6z1URzZ"
      }
    },
    {
      "cell_type": "code",
      "source": [
        "import numpy as np\n",
        "import matplotlib.pyplot as plt\n",
        "\n",
        "# Definir señal x[n]\n",
        "n = np.arange(0, 20)\n",
        "x = np.ones_like(n)  # por ejemplo, una señal constante\n",
        "x[5:] = 0            # puede simular un pulso\n",
        "\n",
        "# Calcular y[n] = sum_{k=-inf}^n x^2[k]\n",
        "y = np.cumsum(x**2)  # acumulado de cuadrados\n",
        "\n",
        "# Graficar\n",
        "plt.stem(n, x, linefmt='C0-', markerfmt='C0o', basefmt='k', label='x[n]')\n",
        "plt.stem(n, y, linefmt='C1-', markerfmt='C1s', basefmt='k', label='y[n]')\n",
        "plt.title('Sistema: y[n] = sum x²[k]')\n",
        "plt.xlabel('n')\n",
        "plt.ylabel('Amplitud')\n",
        "plt.grid(True)\n",
        "plt.legend()\n",
        "plt.show()"
      ],
      "metadata": {
        "colab": {
          "base_uri": "https://localhost:8080/",
          "height": 472
        },
        "id": "FQKXkaXBWQP-",
        "outputId": "905f6d53-d7b7-46b9-890f-d264404b7199"
      },
      "execution_count": null,
      "outputs": [
        {
          "output_type": "display_data",
          "data": {
            "text/plain": [
              "<Figure size 640x480 with 1 Axes>"
            ],
            "image/png": "[encoded data removed]"
          },
          "metadata": {}
        }
      ]
    },
    {
      "cell_type": "markdown",
      "source": [
        "* median $(x[n])$ ; donde median es la funcion mediana sobre una ventana de tamano 3.\n",
        "\n",
        "¿Es lineal?\n",
        "\n",
        "Es **lineal** si cumple:\n",
        "\n",
        "$$\n",
        "H\\{a_1 x_1[n] + a_2 x_2[n]\\} = a_1 H\\{x_1[n]\\} + a_2 H\\{x_2[n]\\}\n",
        "$$\n",
        "\n",
        "Pero la función **mediana** no es lineal. Ejemplo:\n",
        "\n",
        "Ejemplo:\n",
        "\n",
        "$$\n",
        "x_1[n] = [0, 0, 100] \\quad \\Rightarrow \\quad \\text{median} = 0\n",
        "$$\n",
        "\n",
        "$$\n",
        "x_2[n] = [100, 0, 0] \\quad \\Rightarrow \\quad \\text{median} = 0\n",
        "$$\n",
        "\n",
        "Entonces:\n",
        "\n",
        "$$\n",
        "y_1 = y_2 = 0 \\quad \\Rightarrow \\quad a_1 y_1 + a_2 y_2 = 0\n",
        "$$\n",
        "\n",
        "Pero si combinamos:\n",
        "\n",
        "$$\n",
        "x[n] = \\frac{1}{2} x_1[n] + \\frac{1}{2} x_2[n] = [50, 0, 50] \\quad \\Rightarrow \\quad \\text{median} = 50\n",
        "$$\n",
        "\n",
        "Y:\n",
        "\n",
        "$$\n",
        "H\\left\\{ \\frac{1}{2} x_1 + \\frac{1}{2} x_2 \\right\\} \\neq \\frac{1}{2} H\\{x_1\\} + \\frac{1}{2} H\\{x_2\\}\n",
        "$$\n",
        "\n",
        "\n",
        "**El sistema NO es lineal**.\n",
        "\n",
        "---\n",
        "\n",
        "¿Es invariante en el tiempo?\n",
        "\n",
        "Si:\n",
        "\n",
        "$$\n",
        "x_1[n] = x[n - n_0] \\quad \\Rightarrow \\quad y_1[n] = y[n - n_0]\n",
        "$$\n",
        "\n",
        "En este caso **sí se cumple**, porque la salida es:\n",
        "\n",
        "$$\n",
        "y[n] = \\text{median}(x[n-1], x[n], x[n+1])\n",
        "$$\n",
        "\n",
        "Entonces, al desplazar la entrada:\n",
        "\n",
        "$$\n",
        "y[n - n_0] = \\text{median}(x[n - n_0 - 1], x[n - n_0], x[n - n_0 + 1])\n",
        "$$\n",
        "\n",
        "**El sistema SÍ es invariante en el tiempo**.\n",
        "\n"
      ],
      "metadata": {
        "id": "jYMnhw4qWfmV"
      }
    },
    {
      "cell_type": "code",
      "source": [
        "import numpy as np\n",
        "import matplotlib.pyplot as plt\n",
        "from scipy.ndimage import median_filter\n",
        "\n",
        "# Crear una señal x[n] (puede tener ruido)\n",
        "n = np.arange(0, 20)\n",
        "x = np.random.randint(0, 10, size=len(n))\n",
        "\n",
        "# Aplicar mediana con ventana de tamaño 3\n",
        "y = median_filter(x, size=3, mode='nearest')\n",
        "\n",
        "# Graficar\n",
        "plt.stem(n, x, linefmt='C0-', markerfmt='C0o', basefmt='k', label='x[n]')\n",
        "plt.stem(n, y, linefmt='C1-', markerfmt='C1s', basefmt='k', label='y[n] = median(x[n-1],x[n],x[n+1])')\n",
        "plt.title('Sistema: salida = mediana de ventana de 3')\n",
        "plt.xlabel('n')\n",
        "plt.grid(True)\n",
        "plt.legend()\n",
        "plt.show()"
      ],
      "metadata": {
        "colab": {
          "base_uri": "https://localhost:8080/",
          "height": 472
        },
        "id": "mFmAH9whXtPF",
        "outputId": "1d30454e-e60e-482d-cdaa-e92f99ace5ee"
      },
      "execution_count": null,
      "outputs": [
        {
          "output_type": "display_data",
          "data": {
            "text/plain": [
              "<Figure size 640x480 with 1 Axes>"
            ],
            "image/png": "[encoded data removed]"
          },
          "metadata": {}
        }
      ]
    },
    {
      "cell_type": "markdown",
      "source": [
        "* $\n",
        "y(t) = A \\cdot x(t) + B \\quad \\text{con} \\quad A, B \\in \\mathbb{R}\n",
        "$\n",
        "\n",
        "¿Es lineal?\n",
        "\n",
        "Para que un sistema sea **lineal**, **no debe haber términos constantes** (que no dependan de la entrada).\n",
        "\n",
        "La propiedad de **linealidad** dice que:\n",
        "\n",
        "**Si:**\n",
        "\n",
        "$$\n",
        "x(t) = a_1 x_1(t) + a_2 x_2(t)\n",
        "$$\n",
        "\n",
        "**Entonces debe cumplirse que:**\n",
        "\n",
        "$$\n",
        "H\\{x(t)\\} = a_1 H\\{x_1(t)\\} + a_2 H\\{x_2(t)\\}\n",
        "$$\n",
        "\n",
        "Caso 1: Si \\( B = 0 \\)\n",
        "\n",
        "Entonces:\n",
        "\n",
        "$$\n",
        "y(t) = A \\cdot x(t) \\quad \\Rightarrow \\quad H\\{x(t)\\} = A \\cdot x(t)\n",
        "$$\n",
        "\n",
        "Verificamos:\n",
        "\n",
        "$$\n",
        "H\\{a_1 x_1(t) + a_2 x_2(t)\\} = A (a_1 x_1 + a_2 x_2) = a_1 A x_1 + a_2 A x_2 = a_1 y_1 + a_2 y_2\n",
        "$$\n",
        "\n",
        "**es lineal si** \\( B = 0 \\).\n",
        "\n",
        "---\n",
        "\n",
        "Caso 2: Si \\( B \\ne 0 \\)\n",
        "\n",
        "Entonces:\n",
        "\n",
        "$$\n",
        "y(t) = A \\cdot x(t) + B\n",
        "$$\n",
        "\n",
        "Pero:\n",
        "\n",
        "$$\n",
        "H\\{a_1 x_1 + a_2 x_2\\} = A(a_1 x_1 + a_2 x_2) + B\n",
        "$$\n",
        "\n",
        "Mientras que:\n",
        "\n",
        "$$\n",
        "a_1 H\\{x_1\\} + a_2 H\\{x_2\\} = a_1 (A x_1 + B) + a_2 (A x_2 + B) = A(a_1 x_1 + a_2 x_2) + (a_1 + a_2) B\n",
        "$$\n",
        "\n",
        "Los términos constantes **no coinciden** a menos que:\n",
        "\n",
        "$$\n",
        "a_1 + a_2 = 1\n",
        "$$\n",
        "\n",
        "**El sistema NO es lineal si** $ B \\ne 0 $\n",
        "\n",
        "---\n",
        "\n",
        "¿Es invariante en el tiempo?\n",
        "\n",
        "Para verificar **invariancia en el tiempo**:\n",
        "\n",
        "**Si:**\n",
        "\n",
        "$$\n",
        "x_1(t) = x(t - t_0) \\quad \\Rightarrow \\quad y_1(t) = y(t - t_0)\n",
        "$$\n",
        "\n",
        "Entonces:\n",
        "\n",
        "$$\n",
        "H\\{x(t - t_0)\\} = A \\cdot x(t - t_0) + B = y(t - t_0)\n",
        "$$\n",
        "\n",
        "**sí es invariante en el tiempo**.\n"
      ],
      "metadata": {
        "id": "kbbQBzPVX1XO"
      }
    },
    {
      "cell_type": "code",
      "source": [
        "import numpy as np\n",
        "import matplotlib.pyplot as plt\n",
        "\n",
        "# Parámetros\n",
        "A = 2\n",
        "B = 3\n",
        "\n",
        "# Señal de entrada\n",
        "t = np.linspace(0, 10, 500)\n",
        "x = np.sin(t)\n",
        "\n",
        "# Salida del sistema\n",
        "y = A * x + B\n",
        "\n",
        "# Graficar\n",
        "plt.plot(t, x, label='x(t)')\n",
        "plt.plot(t, y, label='y(t) = A·x(t) + B', linestyle='--')\n",
        "plt.title('Sistema: y(t) = A·x(t) + B')\n",
        "plt.xlabel('t')\n",
        "plt.grid(True)\n",
        "plt.legend()\n",
        "plt.show()"
      ],
      "metadata": {
        "colab": {
          "base_uri": "https://localhost:8080/",
          "height": 472
        },
        "id": "0cSMUHLhYoVj",
        "outputId": "c31d8002-5503-445e-922b-86336dbd6053"
      },
      "execution_count": null,
      "outputs": [
        {
          "output_type": "display_data",
          "data": {
            "text/plain": [
              "<Figure size 640x480 with 1 Axes>"
            ],
            "image/png": "[encoded data removed]"
          },
          "metadata": {}
        }
      ]
    },
    {
      "cell_type": "markdown",
      "source": [
        "### *Hallar la salida \\( y[n] \\) de un SLIT ante la entrada $ x[n] = \\{-15,\\ 5 \\ -3^\\dagger,\\ 0,\\ 5,\\ 7,\\ -1\\}$ con respuesta al impulso $h[n] = \\{1,\\ -2,\\ 0^\\dagger,\\ 1,\\ -2\\}$ donde $n \\in \\{0, \\pm1, \\pm2, \\ldots, \\pm N\\}$ y $n = 0 $ para $x[n]^\\dagger $. Nota: Utilizar método gráfico para encontrar la salida y comprobar con simulación en Python. Ver cuaderno Convolución discreta. Repita el proceso para el sistema con respuesta al escalón: $\\{-1,\\ 6,\\ -10,\\ 3^\\dagger,\\ 1,\\ -10,\\ 2,\\ 5\\}$ (Ver cuaderno Respuesta Escalón).\n"
      ],
      "metadata": {
        "id": "SR0XVgHj7XjH"
      }
    },
    {
      "cell_type": "markdown",
      "source": [
        "Datos\n",
        "\n",
        "- $$x[n] = \\{-15,\\ 5,\\ \\boxed{-3},\\ 0,\\ 5,\\ 7,\\ -1\\}$$, con $n = 0$ en el valor $-3$  \n",
        "  → entonces $x[n]$ va de $n = -2$ a $n = 4$\n",
        "\n",
        "- $$h[n] = \\{1,\\ -2,\\ \\boxed{0},\\ 1,\\ -2\\}$$, con $n = 0$ en el valor $0$  \n",
        "  → entonces $h[n]$ va de $n = -2$ a $n = 2$\n",
        "\n",
        "---\n",
        "\n",
        "Definición de convolución (discreta)\n",
        "\n",
        "$$\n",
        "y[n] = \\sum_{k = -\\infty}^{\\infty} x[k] \\cdot h[n - k]\n",
        "$$\n",
        "\n",
        "O equivalente:\n",
        "\n",
        "$$\n",
        "y[n] = x[n] * h[n]\n",
        "$$\n",
        "\n",
        "Este proceso incluye:\n",
        "\n",
        "- Reflejar $h[k]$ para obtener $h[-k]$\n",
        "- Desplazar: $h[n - k]$\n",
        "- Superponer con $x[k]$\n",
        "- Multiplicar punto a punto y sumar\n",
        "\n",
        "Señales y soporte\n",
        "\n",
        "| Señal  | Soporte         |\n",
        "|--------|-----------------|\n",
        "| $x[n]$ | $n \\in [-2, 4]$ |\n",
        "| $h[n]$ | $n \\in [-2, 2]$ |\n",
        "\n",
        "Entonces, la convolución va desde:\n",
        "\n",
        "$$\n",
        "n_{\\text{min}} = -2 + (-2) = -4, \\quad n_{\\text{max}} = 4 + 2 = 6\n",
        "$$\n",
        "\n",
        "$$\n",
        "\\text{Soporte total:} \\quad n \\in [-2 + (-2),\\ 4 + 2] = [-4,\\ 6]\n",
        "$$\n",
        "\n"
      ],
      "metadata": {
        "id": "w63id5WdNWa7"
      }
    },
    {
      "cell_type": "code",
      "source": [
        "import numpy as np\n",
        "import matplotlib.pyplot as plt\n",
        "\n",
        "# Entrada x[n] y respuesta al impulso h[n]\n",
        "x = np.array([-15, 5, -3, 0, 5, 7, -1])     # n = -2 a 4\n",
        "h = np.array([1, -2, 0, 1, -2])             # n = -2 a 2\n",
        "\n",
        "# Convolución\n",
        "y = np.convolve(x, h)\n",
        "n_y = np.arange(-4, 7)\n",
        "\n",
        "# Graficar\n",
        "plt.stem(n_y, y, basefmt=\"k\")\n",
        "plt.title(\"Salida y[n] = x[n] * h[n] (respuesta al impulso)\")\n",
        "plt.xlabel(\"n\")\n",
        "plt.ylabel(\"y[n]\")\n",
        "plt.grid(True)\n",
        "plt.show()\n",
        "\n",
        "# Mostrar resultado\n",
        "print(f\"y[n] = {y}\")\n",
        "print(f\"n ∈ {list(n_y)}\")\n"
      ],
      "metadata": {
        "id": "UI4u8_JuTLdS",
        "outputId": "ec438030-ce0e-455f-aafd-1593302d44f3",
        "colab": {
          "base_uri": "https://localhost:8080/",
          "height": 507
        }
      },
      "execution_count": null,
      "outputs": [
        {
          "output_type": "display_data",
          "data": {
            "text/plain": [
              "<Figure size 640x480 with 1 Axes>"
            ],
            "image/png": "[encoded data removed]"
          },
          "metadata": {}
        },
        {
          "output_type": "stream",
          "name": "stdout",
          "text": [
            "y[n] = [-15  35 -13  -9  40 -16  -9   7  -3 -15   2]\n",
            "n ∈ [np.int64(-4), np.int64(-3), np.int64(-2), np.int64(-1), np.int64(0), np.int64(1), np.int64(2), np.int64(3), np.int64(4), np.int64(5), np.int64(6)]\n"
          ]
        }
      ]
    },
    {
      "cell_type": "markdown",
      "source": [
        "Convolución con la respuesta al escalón\n",
        "\n",
        "Datos\n",
        "\n",
        "$h_\\epsilon[n] = \\{-1,\\ 6,\\ -10,\\ 3,\\ 1,\\ -10,\\ 2,\\ 5\\}$\n",
        "\n",
        "El centro (†) está en el valor 3, posición 3 $\\Rightarrow$ entonces:\n",
        "\n",
        "$$\n",
        "h_\\epsilon[n] \\text{ va de } n = -3 \\text{ a } n = 4\n",
        "$$\n",
        "\n",
        "---\n",
        "\n",
        "Fundamento teórico:\n",
        "\n",
        "La salida de un sistema SLIT también puede calcularse como:\n",
        "\n",
        "$$\n",
        "y[n] = \\frac{d}{dn}x[n] * h_\\epsilon[n] = \\Delta x[n] * h_\\epsilon[n]\n",
        "$$\n",
        "\n",
        "Donde:\n",
        "\n",
        "$$\n",
        "\\Delta x[n] = x[n] - x[n - 1]\n",
        "$$\n",
        "\n",
        "es la **derivada discreta hacia atrás**.\n",
        "\n",
        "---\n",
        "\n",
        "La **respuesta al impulso** se puede obtener como:\n",
        "\n",
        "$$\n",
        "h[n] = \\Delta h_\\epsilon[n] = h_\\epsilon[n] - h_\\epsilon[n - 1]\n",
        "$$\n"
      ],
      "metadata": {
        "id": "42hmf1pSTjvJ"
      }
    },
    {
      "cell_type": "code",
      "source": [
        "import numpy as np\n",
        "import matplotlib.pyplot as plt\n",
        "\n",
        "# Entrada x[n]\n",
        "x = np.array([-15, 5, -3, 0, 5, 7, -1])     # n = -2 a 4\n",
        "\n",
        "# Respuesta al escalón\n",
        "h_e = np.array([-1, 6, -10, 3, 1, -10, 2, 5])  # n = -3 a 4\n",
        "\n",
        "# Derivada discreta hacia atrás de x[n]\n",
        "x_pad = np.concatenate([[0], x])   # padding: x[-1] = 0\n",
        "dx = x_pad[1:] - x_pad[:-1]        # Delta x[n]\n",
        "\n",
        "# Convolución con respuesta al escalón\n",
        "y_e = np.convolve(dx, h_e)\n",
        "n_ye = np.arange(-5, 9)  # 14 muestras, desde -5 hasta 8\n",
        "\n",
        "# Graficar\n",
        "plt.stem(n_ye, y_e, basefmt=\"k\")\n",
        "plt.title(\"Salida y[n] = Δx[n] * hε[n] (respuesta al escalón)\")\n",
        "plt.xlabel(\"n\")\n",
        "plt.ylabel(\"y[n]\")\n",
        "plt.grid(True)\n",
        "plt.show()\n",
        "\n",
        "print(f\"y[n] con h_ε[n] = {y_e}\")\n",
        "print(f\"n ∈ {list(n_ye)}\")\n"
      ],
      "metadata": {
        "id": "7XHD5kCLTkHi",
        "outputId": "778e4c07-ec0f-43f3-d330-86a7f3ffb761",
        "colab": {
          "base_uri": "https://localhost:8080/",
          "height": 527
        }
      },
      "execution_count": null,
      "outputs": [
        {
          "output_type": "display_data",
          "data": {
            "text/plain": [
              "<Figure size 640x480 with 1 Axes>"
            ],
            "image/png": "[encoded data removed]"
          },
          "metadata": {}
        },
        {
          "output_type": "stream",
          "name": "stdout",
          "text": [
            "y[n] con h_ε[n] = [  15 -110  278 -296  138  144 -259   -5  145 -106   -3  109   -6  -40]\n",
            "n ∈ [np.int64(-5), np.int64(-4), np.int64(-3), np.int64(-2), np.int64(-1), np.int64(0), np.int64(1), np.int64(2), np.int64(3), np.int64(4), np.int64(5), np.int64(6), np.int64(7), np.int64(8)]\n"
          ]
        }
      ]
    },
    {
      "cell_type": "markdown",
      "source": [
        "### *Sea la señal Gaussiana $x(t) = e^{-a t^2}$ con $a \\in \\mathbb{R}^+$, el sistema $A$ con relación entrada-salida $y_A(t) = x^2(t)$, y el sistema lineal e invariante con el tiempo $B$ con respuesta al impulso $h_B(t) = B e^{-b t^2}$: a) Encuentre la salida del sistema en serie $x(t) \\rightarrow h_B(t) \\rightarrow y_A(t) \\rightarrow y(t)$ b) Encuentre la salida del sistema en serie $x(t) \\rightarrow y_A(t) \\rightarrow h_B(t) \\rightarrow y(t)$\n"
      ],
      "metadata": {
        "id": "KygoYRX6Tk-8"
      }
    },
    {
      "cell_type": "markdown",
      "source": [
        "* Entrada: señal Gaussiana  \n",
        "  $$\n",
        "  x(t) = e^{-a t^2}, \\quad a > 0\n",
        "  $$\n",
        "\n",
        "* Sistema **A**: no lineal  \n",
        "  $$\n",
        "  y_A(t) = x^2(t)\n",
        "  $$\n",
        "\n",
        "* Sistema **B**: **lineal e invariante en el tiempo (SLIT)**, con respuesta al impulso:  \n",
        "  $$\n",
        "  h_B(t) = B e^{-b t^2}, \\quad b > 0, \\ B \\in \\mathbb{R}\n",
        "  $$\n",
        "---\n",
        "a) Salida del sistema: $x(t) \\rightarrow h_B(t) \\rightarrow y_A(t) \\rightarrow y(t)$\n",
        "\n",
        "**Primero:** pasa por el sistema **B** (SLIT), es decir:  \n",
        "$$\n",
        "y_B(t) = x(t) * h_B(t) = \\int_{-\\infty}^{\\infty} x(\\tau) h_B(t - \\tau) d\\tau\n",
        "$$\n",
        "\n",
        "Usamos:  \n",
        "$x(\\tau) = e^{-a \\tau^2}$  \n",
        "$h_B(t - \\tau) = B e^{-b (t - \\tau)^2}$\n",
        "\n",
        "Entonces:  \n",
        "$$\n",
        "y_B(t) = \\int_{-\\infty}^{\\infty} e^{-a \\tau^2} \\cdot B e^{-b (t - \\tau)^2} d\\tau = B \\int_{-\\infty}^{\\infty} e^{-a \\tau^2 - b(t - \\tau)^2} d\\tau\n",
        "$$\n",
        "\n",
        "Agrupamos los exponentes. Expandimos $(t - \\tau)^2$:  \n",
        "$$\n",
        "(t - \\tau)^2 = t^2 - 2t\\tau + \\tau^2\n",
        "\\Rightarrow\n",
        "-a\\tau^2 - b(t^2 - 2t\\tau + \\tau^2) = -(a + b)\\tau^2 + 2bt\\tau - bt^2\n",
        "$$\n",
        "\n",
        "Entonces:  \n",
        "$$\n",
        "y_B(t) = B e^{-bt^2} \\int_{-\\infty}^{\\infty} e^{-(a + b)\\tau^2 + 2bt\\tau} d\\tau\n",
        "$$\n",
        "\n",
        "Usamos la fórmula del **completado de cuadrados** para resolver la integral Gaussiana:  \n",
        "$$\n",
        "\\int_{-\\infty}^\\infty e^{-p\\tau^2 + q\\tau} d\\tau = \\sqrt{\\frac{\\pi}{p}} e^{\\frac{q^2}{4p}}, \\quad \\text{si } p > 0\n",
        "$$\n",
        "\n",
        "Aquí:  \n",
        "$p = a + b$  \n",
        "$q = 2bt$\n",
        "\n",
        "Entonces:  \n",
        "$$\n",
        "y_B(t) = B e^{-bt^2} \\cdot \\sqrt{\\frac{\\pi}{a + b}} \\cdot e^{\\frac{(2bt)^2}{4(a + b)}}\n",
        "= B \\sqrt{\\frac{\\pi}{a + b}} e^{-bt^2} e^{\\frac{4b^2t^2}{4(a + b)}}\n",
        "= B \\sqrt{\\frac{\\pi}{a + b}} e^{\\left(-bt^2 + \\frac{b^2t^2}{a + b}\\right)}\n",
        "$$\n",
        "\n",
        "Simplificamos el exponente:  \n",
        "$$\n",
        "-bt^2 + \\frac{b^2t^2}{a + b} = t^2\\left( -b + \\frac{b^2}{a + b} \\right)\n",
        "= t^2 \\cdot \\left( \\frac{-b(a + b) + b^2}{a + b} \\right)\n",
        "= t^2 \\cdot \\left( \\frac{-ab}{a + b} \\right)\n",
        "$$\n",
        "\n",
        "Entonces:  \n",
        "$$\n",
        "y_B(t) = B \\sqrt{\\frac{\\pi}{a + b}} \\cdot e^{-\\frac{ab}{a + b} t^2}\n",
        "$$\n",
        "\n",
        "Ahora pasa por el sistema A (cuadrático):\n",
        "$$\n",
        "y(t) = [y_B(t)]^2 = B^2 \\cdot \\frac{\\pi}{a + b} \\cdot e^{-2\\cdot\\frac{ab}{a + b} t^2}\n",
        "$$\n",
        "\n",
        "Resultado (parte a):\n",
        "$$\n",
        "{\n",
        "y(t) = B^2 \\cdot \\frac{\\pi}{a + b} \\cdot e^{-\\frac{2ab}{a + b} t^2}\n",
        "}\n",
        "$$\n",
        "\n",
        "---\n",
        "\n",
        "b) Salida del sistema: $x(t) \\rightarrow y_A(t) \\rightarrow h_B(t) \\rightarrow y(t)$\n",
        "\n",
        "Primero pasa por sistema A:\n",
        "$$\n",
        "y_A(t) = x^2(t) = \\left(e^{-a t^2}\\right)^2 = e^{-2a t^2}\n",
        "$$\n",
        "\n",
        "Ahora pasa por sistema B (convolución):\n",
        "$$\n",
        "y(t) = y_A(t) * h_B(t) = \\int_{-\\infty}^{\\infty} e^{-2a \\tau^2} \\cdot B e^{-b(t - \\tau)^2} d\\tau\n",
        "$$\n",
        "\n",
        "Sigue el mismo procedimiento que en el inciso anterior. Expandimos:  \n",
        "$$\n",
        "b(t - \\tau)^2 = bt^2 - 2bt\\tau + b\\tau^2\n",
        "\\Rightarrow \\text{Exponente: } -2a\\tau^2 - b(t - \\tau)^2 = -(2a + b)\\tau^2 + 2bt\\tau - bt^2\n",
        "$$\n",
        "\n",
        "Entonces:  \n",
        "$$\n",
        "y(t) = B e^{-bt^2} \\int_{-\\infty}^{\\infty} e^{-(2a + b)\\tau^2 + 2bt\\tau} d\\tau\n",
        "= B e^{-bt^2} \\cdot \\sqrt{\\frac{\\pi}{2a + b}} \\cdot e^{\\frac{b^2 t^2}{2a + b}}\n",
        "$$\n",
        "\n",
        "Juntamos los exponentes:  \n",
        "$$\n",
        "y(t) = B \\sqrt{\\frac{\\pi}{2a + b}} \\cdot e^{t^2 \\left( -b + \\frac{b^2}{2a + b} \\right)}\n",
        "$$\n",
        "\n",
        "Simplificamos:  \n",
        "$$\n",
        "-b + \\frac{b^2}{2a + b} = \\frac{-b(2a + b) + b^2}{2a + b} = \\frac{-2ab}{2a + b}\n",
        "$$\n",
        "\n",
        "Entonces:  \n",
        "$$\n",
        "y(t) = B \\sqrt{\\frac{\\pi}{2a + b}} \\cdot e^{-\\frac{2ab}{2a + b} t^2}\n",
        "$$\n",
        "\n",
        "Resultado (parte b):\n",
        "$$\n",
        "{\n",
        "y(t) = B \\cdot \\sqrt{\\frac{\\pi}{2a + b}} \\cdot e^{-\\frac{2ab}{2a + b} t^2}\n",
        "}\n",
        "$$\n"
      ],
      "metadata": {
        "id": "3NSshlaJVrus"
      }
    },
    {
      "cell_type": "markdown",
      "source": [
        "### *Consultar y realizar los ejercicios del cuaderno Definición transformada de la Laplace\n",
        "\n",
        "link: https://github.com/laduqueo/Senales_y_Sistemas/blob/main/Definicion_Laplace.ipynb"
      ],
      "metadata": {
        "id": "gQG0xofxX_Pv"
      }
    },
    {
      "cell_type": "markdown",
      "source": [
        "### * Consultar y realizar los ejercicios del cuaderno Propiedades básicas transformada de la Laplace\n",
        "\n",
        "link: https://github.com/laduqueo/Senales_y_Sistemas/blob/main/Propiedades_Laplace.ipynb"
      ],
      "metadata": {
        "id": "Jd--kzYOgmFV"
      }
    },
    {
      "cell_type": "markdown",
      "source": [
        "### * Demuestre las siguientes propiedades (sin utilizar tablas de propiedades: (Ver material de apoyo y propiedades de Laplace.)\n",
        "\n",
        "\n",
        "i) $$\\mathcal{L}\\{x(t - t_0)\\} = e^{-s t_0} X(s)$$\n",
        "\n",
        "**Demostración:**\n",
        "\n",
        "La definición bilateral de la transformada de Laplace es:\n",
        "\n",
        "$$\n",
        "\\mathcal{L}\\{x(t - t_0)\\} = \\int_{-\\infty}^{\\infty} x(t - t_0) e^{-s t} dt\n",
        "$$\n",
        "\n",
        "Cambio de variable:\n",
        "\n",
        "$$\n",
        "\\tau = t - t_0 \\Rightarrow t = \\tau + t_0,\\quad dt = d\\tau\n",
        "$$\n",
        "\n",
        "Sustituimos:\n",
        "\n",
        "$$\n",
        "\\mathcal{L}\\{x(t - t_0)\\} = \\int_{-\\infty}^{\\infty} x(\\tau) e^{-s (\\tau + t_0)} d\\tau = e^{-s t_0} \\int_{-\\infty}^{\\infty} x(\\tau) e^{-s \\tau} d\\tau = e^{-s t_0} X(s)\n",
        "$$\n",
        "\n",
        "ii) $$\\mathcal{L}\\{x(at)\\} = \\frac{1}{|a|} X\\left(\\frac{s}{a}\\right)$$\n",
        "\n",
        "\n",
        "**Demostración:**\n",
        "\n",
        "$$\n",
        "\\mathcal{L}\\{x(at)\\} = \\int_{-\\infty}^{\\infty} x(at) e^{-s t} dt\n",
        "$$\n",
        "\n",
        "Cambio de variable:\n",
        "\n",
        "$$\n",
        "\\tau = at \\Rightarrow t = \\frac{\\tau}{a}, \\quad dt = \\frac{d\\tau}{a}\n",
        "$$\n",
        "\n",
        "Entonces:\n",
        "\n",
        "$$\n",
        "\\mathcal{L}\\{x(at)\\} = \\int_{-\\infty}^{\\infty} x(\\tau) e^{-s \\frac{\\tau}{a}} \\frac{d\\tau}{a} = \\frac{1}{|a|} \\int_{-\\infty}^{\\infty} x(\\tau) e^{-\\frac{s}{a} \\tau} d\\tau = \\frac{1}{|a|} X\\left( \\frac{s}{a} \\right)\n",
        "$$\n",
        "\n",
        "\n",
        "iii) $$\\mathcal{L}\\left\\{ \\frac{dx(t)}{dt} \\right\\} = s X(s)$$\n",
        "\n",
        "**Demostración:**\n",
        "\n",
        "Usamos integración por partes:\n",
        "\n",
        "$$\n",
        "\\mathcal{L}\\left\\{ \\frac{dx(t)}{dt} \\right\\} = \\int_{-\\infty}^{\\infty} \\frac{dx(t)}{dt} e^{-st} dt\n",
        "$$\n",
        "\n",
        "Sea:\n",
        "\n",
        "- $u = e^{-st} \\Rightarrow du = -s e^{-st} dt$\n",
        "- $dv = \\frac{dx(t)}{dt} dt \\Rightarrow v = x(t)$\n",
        "\n",
        "Entonces:\n",
        "\n",
        "$$\n",
        "\\int \\frac{dx(t)}{dt} e^{-st} dt = x(t) e^{-st} \\Big|_{-\\infty}^{\\infty} + s \\int x(t) e^{-st} dt\n",
        "$$\n",
        "\n",
        "Si $x(t) e^{-st} \\to 0$ en los extremos:\n",
        "\n",
        "$$\n",
        "\\mathcal{L}\\left\\{ \\frac{dx(t)}{dt} \\right\\} = s X(s)\n",
        "$$\n",
        "\n",
        "iv) $$\\mathcal{L}\\{x(t) * y(t)\\} = X(s) \\cdot Y(s)$$\n",
        "\n",
        "**Demostracion:**\n",
        "\n",
        "\n",
        "$$\n",
        "x(t) * y(t) = \\int_{-\\infty}^{\\infty} x(\\tau) y(t - \\tau) d\\tau\n",
        "$$\n",
        "\n",
        "Aplicamos Laplace:\n",
        "\n",
        "$$\n",
        "\\mathcal{L}\\left\\{ \\int_{-\\infty}^{\\infty} x(\\tau) y(t - \\tau) d\\tau \\right\\} = \\int_{-\\infty}^{\\infty} \\left( \\int_{-\\infty}^{\\infty} x(\\tau) y(t - \\tau) d\\tau \\right) e^{-s t} dt\n",
        "$$\n",
        "\n",
        "Intercambiamos el orden de integración:\n",
        "\n",
        "$$\n",
        "= \\int_{-\\infty}^{\\infty} x(\\tau) \\left( \\int_{-\\infty}^{\\infty} y(t - \\tau) e^{-s t} dt \\right) d\\tau\n",
        "$$\n",
        "\n",
        "Cambio de variable: $u = t - \\tau \\Rightarrow t = u + \\tau$\n",
        "\n",
        "$$\n",
        "= \\int_{-\\infty}^{\\infty} x(\\tau) \\left( \\int_{-\\infty}^{\\infty} y(u) e^{-s (u + \\tau)} du \\right) d\\tau = \\int_{-\\infty}^{\\infty} x(\\tau) e^{-s \\tau} d\\tau \\cdot \\int_{-\\infty}^{\\infty} y(u) e^{-s u} du\n",
        "$$\n",
        "\n",
        "$$\n",
        "= X(s) \\cdot Y(s)\n",
        "$$\n",
        "\n",
        "\n"
      ],
      "metadata": {
        "id": "YM4HONVWje8j"
      }
    },
    {
      "cell_type": "markdown",
      "source": [
        "### * Encuentre la transformada de Laplace, dibuje el esquema de polos y ceros y la región de convergencia (ROC), de las siguientes señales:\n",
        "\n",
        "i) $e^{-2t} u(t) + e^{-3t} u(t)$\n",
        "\n",
        "Ambas son señales causales (multiplicadas por $u(t)$).\n",
        "\n",
        "Transformadas individuales:\n",
        "\n",
        "- $\\mathcal{L}\\{e^{-2t} u(t)\\} = \\dfrac{1}{s + 2}, \\quad \\text{ROC: } \\Re\\{s\\} > -2$\n",
        "- $\\mathcal{L}\\{e^{-3t} u(t)\\} = \\dfrac{1}{s + 3}, \\quad \\text{ROC: } \\Re\\{s\\} > -3$\n",
        "\n",
        "Transformada total:\n",
        "\n",
        "$$\n",
        "X(s) = \\frac{1}{s + 2} + \\frac{1}{s + 3}\n",
        "$$\n",
        "\n",
        "ROC: intersección de las dos → $\\Re\\{s\\} > -2$\n",
        "\n",
        "- Polos: $s = -2$ y $s = -3$\n",
        "- Ceros: ninguno explícito\n",
        "- ROC: parte derecha del polo más a la derecha → $\\Re\\{s\\} > -2$\n",
        "---\n",
        "\n",
        "ii) $e^{2t} u(t) + e^{-3t} u(-t)$\n",
        "\n",
        "Esta señal tiene una parte causal y otra anticausal.\n",
        "\n",
        "Primera parte:\n",
        "\n",
        "- $\\mathcal{L}\\{e^{2t} u(t)\\} = \\dfrac{1}{s - 2}, \\quad \\text{ROC: } \\Re\\{s\\} > 2$\n",
        "\n",
        "Segunda parte:\n",
        "\n",
        "- $\\mathcal{L}\\{e^{-3t} u(-t)\\} = \\dfrac{1}{s + 3}, \\quad \\text{ROC: } \\Re\\{s\\} < -3$\n",
        "\n",
        "Transformada total:\n",
        "\n",
        "$$\n",
        "X(s) = \\frac{1}{s - 2} + \\frac{1}{s + 3}\n",
        "$$\n",
        "\n",
        "ROC: no existe ROC común → no existe transformada bilateral con ROC no vacía\n",
        "\n",
        "Conclusión: no existe $X(s)$ bilateral válida. Solo se puede definir unilateralmente si $t \\geq 0$.\n",
        "\n",
        "---\n",
        "\n",
        "iii) $e^{-a|t|}$\n",
        "\n",
        "Esta función es par, y se puede escribir como:\n",
        "\n",
        "$$\n",
        "x(t) = e^{-a t} u(t) + e^{a t} u(-t)\n",
        "$$\n",
        "\n",
        "Transformadas:\n",
        "\n",
        "- $e^{-a t} u(t) \\rightarrow \\dfrac{1}{s + a}, \\quad \\Re\\{s\\} > -a$\n",
        "- $e^{a t} u(-t) \\rightarrow \\dfrac{1}{s - a}, \\quad \\Re\\{s\\} < a$\n",
        "\n",
        "Transformada total:\n",
        "\n",
        "$$\n",
        "X(s) = \\frac{1}{s + a} + \\frac{1}{s - a}\n",
        "$$\n",
        "\n",
        "ROC: $\\Re\\{s\\} \\in (-a, a)$\n",
        "\n",
        "- Polos: $s = -a$ y $s = a$\n",
        "----\n",
        "\n",
        "iv) $e^{-2t}[u(t) - u(t - 5)]$\n",
        "\n",
        "Esto es una exponencial truncada entre $t = 0$ y $t = 5$:\n",
        "\n",
        "$$\n",
        "x(t) =\n",
        "\\begin{cases}\n",
        "e^{-2t}, & 0 \\leq t < 5 \\\\\n",
        "0, & \\text{en otro caso}\n",
        "\\end{cases}\n",
        "$$\n",
        "\n",
        "Transformada de Laplace (usando definición):\n",
        "\n",
        "$$\n",
        "X(s) = \\int_0^5 e^{-2t} \\cdot e^{-s t} dt = \\int_0^5 e^{-(s + 2)t} dt\n",
        "$$\n",
        "\n",
        "Integrando:\n",
        "\n",
        "$$\n",
        "X(s) = \\left[ \\frac{e^{-(s + 2)t}}{-(s + 2)} \\right]_0^5 = \\frac{1 - e^{-5(s + 2)}}{s + 2}\n",
        "$$\n",
        "\n",
        "ROC: toda la recta compleja → $\\Re\\{s\\} \\in \\mathbb{R}$\n",
        "\n",
        "- Polos: $s = -2$\n",
        "- Ceros: cuando $1 - e^{-5(s + 2)} = 0 \\Rightarrow s = -2 + \\dfrac{2\\pi j n}{5}, \\quad n \\in \\mathbb{Z}$\n",
        "\n"
      ],
      "metadata": {
        "id": "zEVHXpONmocB"
      }
    },
    {
      "cell_type": "markdown",
      "source": [
        " ### * Consultar y realizar los ejercicios del cuaderno Transformada inversa de Laplace.\n",
        "\n",
        " link: https://github.com/laduqueo/Senales_y_Sistemas/blob/main/inverse_Laplace.ipynb\n"
      ],
      "metadata": {
        "id": "fLYYqGu8FTjV"
      }
    },
    {
      "cell_type": "markdown",
      "source": [
        "### * Consultar y realizar los ejercicios del cuaderno Autofunciones y SLITs.\n",
        "\n",
        "link: https://github.com/laduqueo/Senales_y_Sistemas/blob/main/Autofunciones.ipynb"
      ],
      "metadata": {
        "id": "AjRgcwOdFa46"
      }
    },
    {
      "cell_type": "markdown",
      "source": [
        "### *Encuentre la funcion de transferencia en lazo abierto para un circuito RLC serie (entrada tension de alimentación - salida tension en el capacitor) y un circuito RCL en paralelo (entrada corriente de alimentacion - salida corriente en el inductor). Nota: tenga en cuenta las condiciones iniciales del sistema segun lo explicado en el material de apoyo Circuito RLC y Analisis de redes eléctricas.\n",
        "\n",
        "1. Circuito RLC serie (Entrada: tensión de alimentación | Salida: tensión en el capacitor)\n",
        "\n",
        "a) Ecuación diferencial del RLC serie:\n",
        "\n",
        "Aplicando la Ley de voltajes de Kirchhoff (LVK):\n",
        "\n",
        "$$L \\cdot C \\cdot \\frac{d^2 y(t)}{dt^2} + R \\cdot C \\cdot \\frac{dy(t)}{dt} + y(t) = x(t)$$\n",
        "\n",
        "Donde:\n",
        "\n",
        "$x(t)$: Voltaje de entrada  \n",
        "\n",
        "$y(t)$: Voltaje en el capacitor (salida)  \n",
        "\n",
        "Asumiendo condiciones iniciales cero (sin energía almacenada antes de $t=0$).\n",
        "\n",
        "b) Función de transferencia (Laplace):\n",
        "\n",
        "Llevando a Laplace (con condiciones iniciales cero):\n",
        "\n",
        "$$L \\cdot C \\cdot s^2 \\cdot Y(s) + R \\cdot C \\cdot s \\cdot Y(s) + Y(s) = X(s)$$\n",
        "\n",
        "Factorizando:\n",
        "\n",
        "$$Y(s) \\left( L C s^2 + R C s + 1 \\right) = X(s)$$\n",
        "\n",
        "Entonces:\n",
        "\n",
        "$$H_{\\text{serie}}(s) = \\frac{Y(s)}{X(s)} = \\frac{1}{L C s^2 + R C s + 1}$$\n",
        "\n",
        "Resultado final del RLC serie (Tensión de entrada → Tensión en el capacitor):\n",
        "\n",
        "$$H_{\\text{serie}}(s) = \\frac{1}{L C s^2 + R C s + 1}$$\n",
        "\n",
        "---\n",
        "\n",
        "2. Circuito RCL en paralelo (Entrada: corriente de alimentación | Salida: corriente en el inductor)\n",
        "\n",
        "a) Ecuación diferencial del RCL paralelo:\n",
        "\n",
        "Aplicando la Ley de corrientes de Kirchhoff (LCK):\n",
        "\n",
        "$$i_{\\text{in}}(t) = i_R(t) + i_L(t) + i_C(t)$$\n",
        "\n",
        "Expresando en términos de $y(t)$, que será la corriente en el inductor:\n",
        "\n",
        "- Corriente en el resistor: $$i_R(t) = \\frac{v(t)}{R}$$\n",
        "\n",
        "- Corriente en el inductor: $$y(t) = i_L(t)$$\n",
        "\n",
        "- Corriente en el capacitor: $$i_C(t) = C \\cdot \\frac{dv(t)}{dt}$$\n",
        "\n",
        "Y como $$v(t) = L \\cdot \\frac{dy(t)}{dt}$$\n",
        "\n",
        "Entonces:\n",
        "\n",
        "$$i_R(t) = \\frac{L}{R} \\cdot \\frac{dy(t)}{dt}$$\n",
        "\n",
        "$$i_C(t) = C \\cdot \\frac{d}{dt} \\left( L \\cdot \\frac{dy(t)}{dt} \\right) = L C \\cdot \\frac{d^2 y(t)}{dt^2}$$\n",
        "\n",
        "Sustituyendo en la ecuación general:\n",
        "\n",
        "$$x(t) = \\frac{L}{R} \\cdot \\frac{dy(t)}{dt} + y(t) + L C \\cdot \\frac{d^2 y(t)}{dt^2}$$\n",
        "\n",
        "Multiplicando todo por $R$:\n",
        "\n",
        "$$L C R \\cdot \\frac{d^2 y(t)}{dt^2} + L \\cdot \\frac{dy(t)}{dt} + R \\cdot y(t) = R \\cdot x(t)$$\n",
        "\n",
        "b) Función de transferencia (Laplace):\n",
        "\n",
        "Con condiciones iniciales cero:\n",
        "\n",
        "$$L C R \\cdot s^2 Y(s) + L \\cdot s Y(s) + R \\cdot Y(s) = R \\cdot X(s)$$\n",
        "\n",
        "Factorizando $Y(s)$:\n",
        "\n",
        "$$Y(s) \\left( L C R \\cdot s^2 + L \\cdot s + R \\right) = R \\cdot X(s)$$\n",
        "\n",
        "Entonces:\n",
        "\n",
        "$$H(s) = \\frac{Y(s)}{X(s)} = \\frac{R}{L C R \\cdot s^2 + L \\cdot s + R}$$\n",
        "\n",
        "Dividiendo numerador y denominador entre $R$:\n",
        "\n",
        "$$H_{\\text{paralelo}}(s) = \\frac{1}{L C s^2 + \\frac{L}{R} s + 1}$$\n",
        "\n",
        "Resultado final del RCL paralelo (Corriente de entrada → Corriente en el inductor):\n",
        "\n",
        "$$H_{\\text{paralelo}}(s) = \\frac{1}{L C s^2 + \\frac{L}{R} s + 1}$$\n"
      ],
      "metadata": {
        "id": "Xogvh1HANQlL"
      }
    },
    {
      "cell_type": "markdown",
      "source": [
        "### *Para las funciones de transferencia en lazo abierto encontradas en el punto anterior, encuentre la expresion de la salida en el tiempo para una configuracion en lazo cerrado del sistema, en funcion de R, L y C, para las siguientes entradas: i) impulso, ii) escalon unitario, y iv) rampa. Compruebe los resultados en simulacion sobre Python (utililzando sympy) y grafique la senal de salida para cada caso. Ver cuaderno de ayuda Fracciones parciales Circuito RLC.\n",
        "\n",
        "1. Función de transferencia en lazo cerrado\n",
        "\n",
        "Si la función de transferencia en lazo abierto es:\n",
        "\n",
        "$$H(s) = \\frac{1}{L C s^2 + R C s + 1}$$\n",
        "\n",
        "Entonces, el lazo cerrado es:\n",
        "\n",
        "$$H_{\\text{lc}}(s) = \\frac{H(s)}{1 + H(s)} = \\frac{1}{L C s^2 + R C s + 2}$$\n",
        "\n",
        "Notas: Esto sale directamente del esquema de retroalimentación unitaria:\n",
        "\n",
        "$$H_{\\text{lc}}(s) = \\frac{H(s)}{1 + H(s)}$$\n",
        "\n",
        "El denominador se convierte en:\n",
        "\n",
        "$$L C s^2 + R C s + 1 + 1 = L C s^2 + R C s + 2$$\n",
        "\n",
        "---\n",
        "\n",
        "2. Salidas en Laplace y luego en el tiempo\n",
        "\n",
        "Para cada entrada, el procedimiento es:\n",
        "\n",
        "Entrada en Laplace:\n",
        "\n",
        "- Impulso: $X(s) = 1$\n",
        "\n",
        "- scalón: $X(s) = \\frac{1}{s}$\n",
        "\n",
        "- Rampa: $X(s) = \\frac{1}{s^2}$\n",
        "\n",
        "La salida será:\n",
        "\n",
        "$$Y(s) = H_{\\text{lc}}(s) \\cdot X(s)$$\n",
        "\n",
        "Luego, aplicar descomposición en fracciones parciales y finalmente la transformada inversa de Laplace para obtener $y(t)$.\n"
      ],
      "metadata": {
        "id": "yeXOgWaOPCyz"
      }
    },
    {
      "cell_type": "code",
      "source": [
        "import sympy as sym\n",
        "import matplotlib.pyplot as plt\n",
        "import numpy as np\n",
        "\n",
        "# Inicialización de impresión simbólica\n",
        "sym.init_printing()\n",
        "\n",
        "# Variables simbólicas\n",
        "s, t, R, L, C = sym.symbols('s t R L C', positive=True)\n",
        "\n",
        "# Definición simbólica de la función de transferencia lazo abierto\n",
        "H_abierto = 1 / (L*C*s**2 + R*C*s + 1)\n",
        "\n",
        "# Función de transferencia en lazo cerrado: Hlc = H / (1 + H)\n",
        "H_lc_expr = sym.simplify(H_abierto / (1 + H_abierto))\n",
        "display(sym.Eq(sym.Function('H_lc')(s), H_lc_expr))\n",
        "\n",
        "# Entradas en el dominio de Laplace\n",
        "entradas = {\n",
        "    'Impulso': 1,\n",
        "    'Escalon': 1/s,\n",
        "    'Rampa': 1/s**2\n",
        "}\n",
        "\n",
        "# Valores numéricos para RLC\n",
        "RLC = {R: 1, L: 0.5, C: 0.4}\n",
        "\n",
        "# Loop para cada entrada\n",
        "for tipo, X in entradas.items():\n",
        "    print(f'\\n### Entrada: {tipo} ###')\n",
        "\n",
        "    # Salida en Laplace\n",
        "    Y = sym.simplify(H_lc_expr * X)\n",
        "    display(sym.Eq(sym.Function('Y')(s), Y))\n",
        "\n",
        "    # Fracciones parciales\n",
        "    Yp = sym.apart(Y, s)\n",
        "    display(sym.Eq(sym.Function('Y_p')(s), Yp))\n",
        "\n",
        "    # Transformada inversa de Laplace\n",
        "    yt = 0\n",
        "    for j, term in enumerate(Yp.args if Yp.has(sym.Add) else [Yp]):\n",
        "        yt += sym.inverse_laplace_transform(term, s, t)\n",
        "    display(sym.Eq(sym.Function('y')(t), yt))\n",
        "\n",
        "    # Sustitución numérica de R, L, C\n",
        "    yt_num = yt.subs(RLC)\n",
        "\n",
        "f_lambdified = sym.lambdify(t, yt_num, modules='numpy')\n",
        "tt = np.linspace(0, 10, 1000)\n",
        "yy = f_lambdified(tt)\n",
        "\n",
        "# Si yy es escalar, convertirlo en array del mismo tamaño que tt\n",
        "if np.isscalar(yy):\n",
        "    yy = np.full_like(tt, yy)\n",
        "\n",
        "plt.figure(figsize=(8, 3))\n",
        "plt.plot(tt, yy, label=f'Respuesta a {tipo}')\n",
        "plt.xlabel('t (s)')\n",
        "plt.ylabel('y(t)')\n",
        "plt.title(f'Respuesta a {tipo}')\n",
        "plt.grid(True)\n",
        "plt.legend()\n",
        "plt.show()\n",
        "\n"
      ],
      "metadata": {
        "id": "jbSO8UFKREez",
        "outputId": "6a2b5ee9-309a-4bcc-ed90-65efe94d13fc",
        "colab": {
          "base_uri": "https://localhost:8080/",
          "height": 884
        }
      },
      "execution_count": 6,
      "outputs": [
        {
          "output_type": "display_data",
          "data": {
            "text/plain": [
              "                  1         \n",
              "H_lc(s) = ──────────────────\n",
              "               2            \n",
              "          C⋅L⋅s  + C⋅R⋅s + 2"
            ],
            "text/latex": "$\\displaystyle H_{lc}{\\left(s \\right)} = \\frac{1}{C L s^{2} + C R s + 2}$"
          },
          "metadata": {}
        },
        {
          "output_type": "stream",
          "name": "stdout",
          "text": [
            "\n",
            "### Entrada: Impulso ###\n"
          ]
        },
        {
          "output_type": "display_data",
          "data": {
            "text/plain": [
              "               1         \n",
              "Y(s) = ──────────────────\n",
              "            2            \n",
              "       C⋅L⋅s  + C⋅R⋅s + 2"
            ],
            "text/latex": "$\\displaystyle Y{\\left(s \\right)} = \\frac{1}{C L s^{2} + C R s + 2}$"
          },
          "metadata": {}
        },
        {
          "output_type": "display_data",
          "data": {
            "text/plain": [
              "                1         \n",
              "Yₚ(s) = ──────────────────\n",
              "             2            \n",
              "        C⋅L⋅s  + C⋅R⋅s + 2"
            ],
            "text/latex": "$\\displaystyle Y_{p}{\\left(s \\right)} = \\frac{1}{C L s^{2} + C R s + 2}$"
          },
          "metadata": {}
        },
        {
          "output_type": "display_data",
          "data": {
            "text/plain": [
              "y(t) = 0"
            ],
            "text/latex": "$\\displaystyle y{\\left(t \\right)} = 0$"
          },
          "metadata": {}
        },
        {
          "output_type": "stream",
          "name": "stdout",
          "text": [
            "\n",
            "### Entrada: Escalon ###\n"
          ]
        },
        {
          "output_type": "display_data",
          "data": {
            "text/plain": [
              "                 1           \n",
              "Y(s) = ──────────────────────\n",
              "         ⎛     2            ⎞\n",
              "       s⋅⎝C⋅L⋅s  + C⋅R⋅s + 2⎠"
            ],
            "text/latex": "$\\displaystyle Y{\\left(s \\right)} = \\frac{1}{s \\left(C L s^{2} + C R s + 2\\right)}$"
          },
          "metadata": {}
        },
        {
          "output_type": "display_data",
          "data": {
            "text/plain": [
              "               C⋅(L⋅s + R)          1 \n",
              "Yₚ(s) = - ────────────────────── + ───\n",
              "            ⎛     2            ⎞   2⋅s\n",
              "          2⋅⎝C⋅L⋅s  + C⋅R⋅s + 2⎠      "
            ],
            "text/latex": "$\\displaystyle Y_{p}{\\left(s \\right)} = - \\frac{C \\left(L s + R\\right)}{2 \\left(C L s^{2} + C R s + 2\\right)} + \\frac{1}{2 s}$"
          },
          "metadata": {}
        },
        {
          "output_type": "display_data",
          "data": {
            "text/plain": [
              "           ⎛ -R⋅t     ⎛     ______________⎞      -R⋅t     ⎛     ______________ ↪\n",
              "           ⎜ ─────    ⎜    ╱      2       ⎟      ─────    ⎜    ╱      2        ↪\n",
              "           ⎜  2⋅L     ⎜t⋅╲╱  - C⋅R  + 8⋅L ⎟       2⋅L     ⎜t⋅╲╱  - C⋅R  + 8⋅L  ↪\n",
              "           ⎜ℯ     ⋅cos⎜───────────────────⎟   R⋅ℯ     ⋅sin⎜─────────────────── ↪\n",
              "           ⎜          ⎝      2⋅√C⋅L       ⎠               ⎝      2⋅√C⋅L        ↪\n",
              "         C⋅⎜─────────────────────────────── + ──────────────────────────────── ↪\n",
              "           ⎜               C                              ______________       ↪\n",
              "           ⎜                                             ╱      2              ↪\n",
              "           ⎝                                        √C⋅╲╱  - C⋅R  + 8⋅L        ↪\n",
              "y(t) = - ───────────────────────────────────────────────────────────────────── ↪\n",
              "                                            2                                  ↪\n",
              "\n",
              "↪ ⎞⎞    \n",
              "↪ ⎟⎟    \n",
              "↪ ⎟⎟    \n",
              "↪ ⎟⎟    \n",
              "↪ ⎠⎟    \n",
              "↪ ─⎟    \n",
              "↪  ⎟    \n",
              "↪  ⎟    \n",
              "↪  ⎠   1\n",
              "↪ ── + ─\n",
              "↪      2"
            ],
            "text/latex": "$\\displaystyle y{\\left(t \\right)} = - \\frac{C \\left(\\frac{e^{- \\frac{R t}{2 L}} \\cos{\\left(\\frac{t \\sqrt{- C R^{2} + 8 L}}{2 \\sqrt{C} L} \\right)}}{C} + \\frac{R e^{- \\frac{R t}{2 L}} \\sin{\\left(\\frac{t \\sqrt{- C R^{2} + 8 L}}{2 \\sqrt{C} L} \\right)}}{\\sqrt{C} \\sqrt{- C R^{2} + 8 L}}\\right)}{2} + \\frac{1}{2}$"
          },
          "metadata": {}
        },
        {
          "output_type": "stream",
          "name": "stdout",
          "text": [
            "\n",
            "### Entrada: Rampa ###\n"
          ]
        },
        {
          "output_type": "display_data",
          "data": {
            "text/plain": [
              "                  1           \n",
              "Y(s) = ───────────────────────\n",
              "        2 ⎛     2            ⎞\n",
              "       s ⋅⎝C⋅L⋅s  + C⋅R⋅s + 2⎠"
            ],
            "text/latex": "$\\displaystyle Y{\\left(s \\right)} = \\frac{1}{s^{2} \\left(C L s^{2} + C R s + 2\\right)}$"
          },
          "metadata": {}
        },
        {
          "output_type": "display_data",
          "data": {
            "text/plain": [
              "                  ⎛             2      ⎞       \n",
              "          C⋅R   C⋅⎝C⋅L⋅R⋅s + C⋅R  - 2⋅L⎠    1  \n",
              "Yₚ(s) = - ─── + ──────────────────────── + ────\n",
              "          4⋅s      ⎛     2            ⎞       2\n",
              "                 4⋅⎝C⋅L⋅s  + C⋅R⋅s + 2⎠    2⋅s "
            ],
            "text/latex": "$\\displaystyle Y_{p}{\\left(s \\right)} = - \\frac{C R}{4 s} + \\frac{C \\left(C L R s + C R^{2} - 2 L\\right)}{4 \\left(C L s^{2} + C R s + 2\\right)} + \\frac{1}{2 s^{2}}$"
          },
          "metadata": {}
        },
        {
          "output_type": "display_data",
          "data": {
            "text/plain": [
              "                 ⎛                             -R⋅t     ⎛     ______________⎞  ↪\n",
              "                 ⎜       ⎛   2       2      ⎞  ─────    ⎜    ╱      2       ⎟  ↪\n",
              "                 ⎜       ⎜  R     C⋅R  - 2⋅L⎟   2⋅L     ⎜t⋅╲╱  - C⋅R  + 8⋅L ⎟  ↪\n",
              "                 ⎜2⋅√C⋅L⋅⎜- ─── + ──────────⎟⋅ℯ     ⋅sin⎜───────────────────⎟  ↪\n",
              "                 ⎜       ⎝  2⋅L      C⋅L    ⎠           ⎝      2⋅√C⋅L       ⎠  ↪\n",
              "               C⋅⎜───────────────────────────────────────────────────────────  ↪\n",
              "                 ⎜                        ______________                       ↪\n",
              "                 ⎜                       ╱      2                              ↪\n",
              "         C⋅R     ⎝                     ╲╱  - C⋅R  + 8⋅L                        ↪\n",
              "y(t) = - ─── + ─────────────────────────────────────────────────────────────── ↪\n",
              "          4                                                     4              ↪\n",
              "\n",
              "↪                                    ⎞    \n",
              "↪                                    ⎟    \n",
              "↪      -R⋅t     ⎛     ______________⎞⎟    \n",
              "↪      ─────    ⎜    ╱      2       ⎟⎟    \n",
              "↪       2⋅L     ⎜t⋅╲╱  - C⋅R  + 8⋅L ⎟⎟    \n",
              "↪ + R⋅ℯ     ⋅cos⎜───────────────────⎟⎟    \n",
              "↪               ⎝      2⋅√C⋅L       ⎠⎟    \n",
              "↪                                    ⎟    \n",
              "↪                                    ⎠   t\n",
              "↪ ──────────────────────────────────── + ─\n",
              "↪                                        2"
            ],
            "text/latex": "$\\displaystyle y{\\left(t \\right)} = - \\frac{C R}{4} + \\frac{C \\left(\\frac{2 \\sqrt{C} L \\left(- \\frac{R^{2}}{2 L} + \\frac{C R^{2} - 2 L}{C L}\\right) e^{- \\frac{R t}{2 L}} \\sin{\\left(\\frac{t \\sqrt{- C R^{2} + 8 L}}{2 \\sqrt{C} L} \\right)}}{\\sqrt{- C R^{2} + 8 L}} + R e^{- \\frac{R t}{2 L}} \\cos{\\left(\\frac{t \\sqrt{- C R^{2} + 8 L}}{2 \\sqrt{C} L} \\right)}\\right)}{4} + \\frac{t}{2}$"
          },
          "metadata": {}
        },
        {
          "output_type": "display_data",
          "data": {
            "text/plain": [
              "<Figure size 800x300 with 1 Axes>"
            ],
            "image/png": "[encoded data removed]"
          },
          "metadata": {}
        }
      ]
    }
  ]
}