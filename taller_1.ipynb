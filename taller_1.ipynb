{
  "nbformat": 4,
  "nbformat_minor": 0,
  "metadata": {
    "colab": {
      "provenance": [],
      "authorship_tag": "ABX9TyOQY5iApqmYooFVJNcbsGvh",
      "include_colab_link": true
    },
    "kernelspec": {
      "name": "python3",
      "display_name": "Python 3"
    },
    "language_info": {
      "name": "python"
    }
  },
  "cells": [
    {
      "cell_type": "markdown",
      "metadata": {
        "id": "view-in-github",
        "colab_type": "text"
      },
      "source": [
        "<a href=\"https://colab.research.google.com/github/laduqueo/Senales_y_Sistemas/blob/main/taller_1.ipynb\" target=\"_parent\"><img src=\"https://colab.research.google.com/assets/colab-badge.svg\" alt=\"Open In Colab\"/></a>"
      ]
    },
    {
      "cell_type": "code",
      "execution_count": 5,
      "metadata": {
        "colab": {
          "base_uri": "https://localhost:8080/"
        },
        "id": "pv9e-TJeD2kU",
        "outputId": "1e1c0abf-1571-4ecb-81bc-e9ee1c700348"
      },
      "outputs": [
        {
          "output_type": "stream",
          "name": "stdout",
          "text": [
            "-625*pi**4/32\n"
          ]
        }
      ],
      "source": [
        "from sympy import symbols, DiracDelta, cos, exp, integrate, pi, simplify, oo\n",
        "\n",
        "\n",
        "t= symbols ('t')\n",
        "p= t**4 * exp(-cos(t)) * cos(-2*t) * DiracDelta (2*t-5*pi)\n",
        "inte= integrate(p,(t, -oo, oo))\n",
        "print(simplify(inte))\n",
        "\n"
      ]
    }
  ]
}