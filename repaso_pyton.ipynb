{
  "nbformat": 4,
  "nbformat_minor": 0,
  "metadata": {
    "colab": {
      "provenance": [],
      "authorship_tag": "ABX9TyPjaI0KuncqK9JzkcUUm4DV",
      "include_colab_link": true
    },
    "kernelspec": {
      "name": "python3",
      "display_name": "Python 3"
    },
    "language_info": {
      "name": "python"
    }
  },
  "cells": [
    {
      "cell_type": "markdown",
      "metadata": {
        "id": "view-in-github",
        "colab_type": "text"
      },
      "source": [
        "<a href=\"https://colab.research.google.com/github/laduqueo/Senales_y_Sistemas/blob/main/repaso_pyton.ipynb\" target=\"_parent\"><img src=\"https://colab.research.google.com/assets/colab-badge.svg\" alt=\"Open In Colab\"/></a>"
      ]
    },
    {
      "cell_type": "code",
      "execution_count": 1,
      "metadata": {
        "colab": {
          "base_uri": "https://localhost:8080/"
        },
        "id": "vRKXH7p1ffaA",
        "outputId": "d1d987ec-e54d-4e34-aca9-51329fb07d32"
      },
      "outputs": [
        {
          "output_type": "stream",
          "name": "stdout",
          "text": [
            "4.0\n"
          ]
        }
      ],
      "source": [
        "a=3\n",
        "b=2\n",
        "c=2.5\n",
        "\n",
        "x=((a+b)/c)**2\n",
        "print(x)"
      ]
    },
    {
      "cell_type": "code",
      "source": [
        "x=int(input(\"cantidad de horas: \"))\n",
        "y=int(input(\"tarifa por horas: \"))\n",
        "z= x*y\n",
        "\n",
        "print (z)"
      ],
      "metadata": {
        "colab": {
          "base_uri": "https://localhost:8080/"
        },
        "id": "cn9UkJAFhdYR",
        "outputId": "07ca2a3d-4de0-45fe-8741-f8237d2acd45"
      },
      "execution_count": 4,
      "outputs": [
        {
          "output_type": "stream",
          "name": "stdout",
          "text": [
            "cantidad de horas: 12\n",
            "tarifa por horas: 1000\n",
            "12000\n"
          ]
        }
      ]
    },
    {
      "cell_type": "code",
      "source": [
        "x=float(input(\"cpeso en kg: \"))\n",
        "y= float(input(\"altura en m: \"))\n",
        "z= x/y**2\n",
        "icm= round(z,2)\n",
        "print(f\"el indice de masa corporal es: {icm}\")\n"
      ],
      "metadata": {
        "colab": {
          "base_uri": "https://localhost:8080/"
        },
        "id": "dJi9RjJ4i3as",
        "outputId": "fb85f322-c0df-4c58-cc66-553ce8bd0dc4"
      },
      "execution_count": 6,
      "outputs": [
        {
          "output_type": "stream",
          "name": "stdout",
          "text": [
            "cpeso en kg: 70\n",
            "altura en m: 1.75\n",
            "el indice de masa corporal es: 22.86\n"
          ]
        }
      ]
    },
    {
      "cell_type": "markdown",
      "source": [
        "Para pagar cierto impuesto, debes tener más de 16 años y tener unos ingresos mensuales iguales o superiores a 1000 €.\n",
        "Escribe un programa que le pida al usuario su edad y sus ingresos mensuales, y muestre si tiene que pagar el impuesto o no."
      ],
      "metadata": {
        "id": "DczAC7OElYZg"
      }
    },
    {
      "cell_type": "code",
      "source": [
        "x=int(input(\"edad: \"))\n",
        "y=int(input(\"ingresos mesuales: \"))\n",
        "\n",
        "if x>16 and y>=1000:\n",
        "    print(\"debe pagar impuesto\")\n",
        "else:\n",
        "    print(\"no debe pagar impuesto\")\n"
      ],
      "metadata": {
        "colab": {
          "base_uri": "https://localhost:8080/"
        },
        "id": "MdVG-gTglZrI",
        "outputId": "5aa99531-c61f-4716-b409-7f9cff357d85"
      },
      "execution_count": 7,
      "outputs": [
        {
          "output_type": "stream",
          "name": "stdout",
          "text": [
            "edad: 10\n",
            "ingresos mesuales: 1\n",
            "no debe pagar impuesto\n"
          ]
        }
      ]
    },
    {
      "cell_type": "markdown",
      "source": [
        "La pizzería Bella Napoli ofrece pizzas vegetarianas y no vegetarianas a sus clientes.\n",
        "Los ingredientes para cada tipo de pizza son los siguientes:\n",
        "\n",
        "Ingredientes vegetarianos: Pimiento y tofu.\n",
        "\n",
        "Ingredientes no vegetarianos: Pepperoni, jamón y salmón.\n",
        "\n",
        "Escribe un programa que le pregunte al usuario si quiere una pizza vegetariana o no, y en base a su respuesta, muestre un menú con los ingredientes disponibles para que elija uno.\n",
        "Solo se puede elegir un ingrediente adicional, aparte de mozzarella y tomate, que ya vienen en todas las pizzas.\n",
        "\n",
        "Finalmente, el programa debe mostrar si la pizza es vegetariana o no, junto con todos los ingredientes que contiene."
      ],
      "metadata": {
        "id": "b5hMeQH7l9rf"
      }
    },
    {
      "cell_type": "code",
      "source": [
        "x=input(\"ingrese si quiere una pizza vegetariana o no: \")\n",
        "\n",
        "if x==\"si\":\n",
        "    y=input(\"los ingredientes son pimiento y tofu\")\n",
        "\n",
        "else:\n",
        "    y=input(\"los ingredientes son pepperoni,jamon y salmon\")\n",
        "    if y==\"pepperoni\":\n",
        "      print(\"la pizza no es vegetariana y tiene pepperoni\")\n",
        "    elif y==\"jamon\":\n",
        "      print(\"la pizza no es vegetariana y tiene jamon\")\n",
        "    elif y==\"salmon\":\n",
        "      print(\"la pizza no es vegetariana y tiene salmon\")\n",
        "    else:\n",
        "      print(\"la opcion no es valida\")"
      ],
      "metadata": {
        "colab": {
          "base_uri": "https://localhost:8080/"
        },
        "id": "xdf9BlCkl-2h",
        "outputId": "e4e24e1a-566b-410d-bb48-f83d0cfd901d"
      },
      "execution_count": 10,
      "outputs": [
        {
          "output_type": "stream",
          "name": "stdout",
          "text": [
            "ingrese si quiere una pizza vegetariana o no: no\n",
            "los ingredientes son pepperoni,jamon y salmonhueso\n",
            "la opcion no es valida\n"
          ]
        }
      ]
    },
    {
      "cell_type": "markdown",
      "source": [
        " Escribe un código que le pida al usuario ingresar un número entero cada vez, y el proceso se repetirá con más números hasta que el usuario ingrese un cero.\n",
        "\n",
        "Al final (cuando se haya ingresado el cero), muestra la cantidad de números ingresados."
      ],
      "metadata": {
        "id": "NRlzH3uWpuoA"
      }
    },
    {
      "cell_type": "code",
      "source": [
        "x= int(input(\"ingrese un numero entero: \"))\n",
        "c=0\n",
        "\n",
        "while x!= 0:\n",
        "  x = int(input(\"ingrese un numero entero o 0 para terminar: \"))\n",
        "  c+=1\n",
        "print(f\"la cantidad de numeros ingresados es: {c}\")\n"
      ],
      "metadata": {
        "colab": {
          "base_uri": "https://localhost:8080/"
        },
        "id": "oeiSclsnpuOf",
        "outputId": "832be5d0-4c6e-45c2-991e-e3e7ef361953"
      },
      "execution_count": 12,
      "outputs": [
        {
          "output_type": "stream",
          "name": "stdout",
          "text": [
            "ingrese un numero entero: 1\n",
            "ingrese un numero entero o 0 para terminar: 2\n",
            "ingrese un numero entero o 0 para terminar: 3\n",
            "ingrese un numero entero o 0 para terminar: 4\n",
            "ingrese un numero entero o 0 para terminar: 5\n",
            "ingrese un numero entero o 0 para terminar: 6\n",
            "ingrese un numero entero o 0 para terminar: 7\n",
            "ingrese un numero entero o 0 para terminar: 8\n",
            "ingrese un numero entero o 0 para terminar: 9\n",
            "ingrese un numero entero o 0 para terminar: 0\n",
            "la cantidad de numeros ingresados es: 9\n"
          ]
        }
      ]
    },
    {
      "cell_type": "markdown",
      "source": [
        "Usa la función input() para pedirle al usuario que ingrese un número entero. Solo si el número es par, se acumulará.\n",
        "\n",
        "El programa debe terminar si la suma de los números supera 50 o si el usuario ha ingresado un máximo de 10 números."
      ],
      "metadata": {
        "id": "Xd4tlzY0qqwp"
      }
    },
    {
      "cell_type": "code",
      "source": [],
      "metadata": {
        "id": "Jv6SN8ldqqc3"
      },
      "execution_count": null,
      "outputs": []
    }
  ]
}