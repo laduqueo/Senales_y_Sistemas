{
  "nbformat": 4,
  "nbformat_minor": 0,
  "metadata": {
    "colab": {
      "provenance": [],
      "include_colab_link": true
    },
    "kernelspec": {
      "display_name": "Python 3",
      "language": "python",
      "name": "python3"
    },
    "language_info": {
      "codemirror_mode": {
        "name": "ipython",
        "version": 3
      },
      "file_extension": ".py",
      "mimetype": "text/x-python",
      "name": "python",
      "nbconvert_exporter": "python",
      "pygments_lexer": "ipython3",
      "version": "3.7.1"
    }
  },
  "cells": [
    {
      "cell_type": "markdown",
      "metadata": {
        "id": "view-in-github",
        "colab_type": "text"
      },
      "source": [
        "<a href=\"https://colab.research.google.com/github/laduqueo/Senales_y_Sistemas/blob/main/cuaderno_3.ipynb\" target=\"_parent\"><img src=\"https://colab.research.google.com/assets/colab-badge.svg\" alt=\"Open In Colab\"/></a>"
      ]
    },
    {
      "cell_type": "markdown",
      "metadata": {
        "id": "mAELYiIgOhR_"
      },
      "source": [
        "# Operaciones básicas sobre señales\n",
        "\n",
        "Las operaciones como la superposición, el cambio temporal y el escalamiento, se utilizan para construir señales con una estructura más compleja.\n",
        "\n",
        "Se introduce un conjunto de operaciones elementales que se utilizan frecuentemente en el procesamiento de señales."
      ]
    },
    {
      "cell_type": "markdown",
      "metadata": {
        "id": "LpU0pSdyOhSE"
      },
      "source": [
        "### Superposición\n",
        "\n",
        "La superposición $x(t)$ de dos señales $x_1(t)$ and $x_2(t)$ está dada por:\n",
        "\n",
        "\\begin{equation}\n",
        "x(t) = A \\cdot x_1(t) + B \\cdot x_2(t)\n",
        "\\end{equation}\n",
        "\n",
        "con los pesos complejos $A, B \\in \\mathbb{C}$."
      ]
    },
    {
      "cell_type": "markdown",
      "metadata": {
        "id": "vkKmgXkiOhSH"
      },
      "source": [
        "**Ejemplo**\n",
        "\n",
        "El siguiente ejemplo ilustra la superposición de dos señales armónicas $x(t) = A \\cdot \\cos(\\omega_1 t) + B \\cdot \\cos(\\omega_2 t)$ con pesos $A$, $B$ y frecuencia angular $\\omega_1$ y $\\omega_2$."
      ]
    },
    {
      "cell_type": "code",
      "metadata": {
        "id": "FxYbPgPoOhSM"
      },
      "source": [
        "%matplotlib inline\n",
        "import sympy as sym\n",
        "\n",
        "t = sym.symbols('t', real=True)#se declara la variable simbólica t\n",
        "\n",
        "#parámetros de las funciones cos\n",
        "A = .3\n",
        "om1 = 3\n",
        "B = .5\n",
        "om2 = 5\n",
        "\n",
        "#operación superposición en sympy\n",
        "x = A*sym.cos(om1*t) + B*sym.cos(om2*t)\n",
        "#se grafica la señal resultante\n",
        "sym.plot(x, (t,-5,5), ylim=[-1.2, 1.2], ylabel=r'$x(t)$');\n"
      ],
      "execution_count": null,
      "outputs": []
    },
    {
      "cell_type": "markdown",
      "metadata": {
        "id": "pUfEr_TmOhSb"
      },
      "source": [
        "### Desplazamiento temporal\n",
        "\n",
        "El desplazamiento temporal de una señal $s(t)$ en un instante de tiempo $\\tau$ es una operación frecuentemente aplicada en el procesamiento de señales. Por ejemplo, para modelar la propagación de señales desde un actuador a un sensor.\n",
        "\n",
        "El desplazamiento de la señal $x(t)$ está definido como:\n",
        "\n",
        "\\begin{equation}\n",
        "x(t) = s(t-\\tau)\n",
        "\\end{equation}\n",
        "\n",
        "con $\\tau \\in \\mathbb{R}$. La señal $s(t)$ es:\n",
        "\n",
        "* desplazada hacia la derecha (*retrasada*) para $\\tau > 0$\n",
        "* desplazada hacia la izquierda para $\\tau < 0$"
      ]
    },
    {
      "cell_type": "markdown",
      "metadata": {
        "id": "qxzFHN3_OhSd"
      },
      "source": [
        "**Ejemplo**\n",
        "\n",
        "Para ilustrar el cambio temporal de señales, la construcción de una señal escalera por una superposición de desplazamiento se define como:\n",
        "\n",
        "\\begin{equation}\n",
        "x(t) = \\text{rect}\\left(t - \\frac{1}{2} \\right) + \\frac{2}{3} \\cdot \\text{rect}\\left(t-\\frac{3}{2} \\right) + \\frac{1}{3} \\cdot \\text{rect} \\left(t-\\frac{5}{2} \\right)\n",
        "\\end{equation}\n",
        "\n"
      ]
    },
    {
      "cell_type": "code",
      "metadata": {
        "id": "NZio1cR7OhSg",
        "colab": {
          "base_uri": "https://localhost:8080/",
          "height": 577
        },
        "outputId": "efc2f702-a08b-4d28-b543-513e183f5f65"
      },
      "source": [
        "rect = sym.Heaviside(t + 0.5) - sym.Heaviside(t - 0.5)\n",
        "sym.plot(rect, xlim=[-2,2], ylabel = r'rect(t)')\n",
        "#los rect desplazados se acoplan con escalamientos diferentes\n",
        "x = rect.subs(t, t-1/2) + 2/3*rect.subs(t, t-3/2) + 1/3*rect.subs(t, t-5/2)\n",
        "sym.plot(x, (t, -1, 5), ylim=[-0.2, 1.2], ylabel='$x(t)$');"
      ],
      "execution_count": null,
      "outputs": [
        {
          "output_type": "display_data",
          "data": {
            "image/png": "[encoded data removed]",
            "text/plain": [
              "<Figure size 432x288 with 1 Axes>"
            ]
          },
          "metadata": {
            "needs_background": "light"
          }
        },
        {
          "output_type": "display_data",
          "data": {
            "image/png": "[encoded data removed]",
            "text/plain": [
              "<Figure size 432x288 with 1 Axes>"
            ]
          },
          "metadata": {
            "needs_background": "light"
          }
        }
      ]
    },
    {
      "cell_type": "markdown",
      "metadata": {
        "id": "Fsg5KHEBOhSp"
      },
      "source": [
        "**Ejercicio**\n",
        "\n",
        "* Agregar otro escalón al principio de la señal escalera modificando el ejemplo anterior."
      ]
    },
    {
      "cell_type": "markdown",
      "metadata": {
        "id": "7f_EZEDPOhSr"
      },
      "source": [
        "### Escalamiento temporal\n",
        "\n",
        "El escalamiento temporal de una señal $s(t)$ está definido como:\n",
        "\n",
        "\\begin{equation}\n",
        "x(t) = s(a \\cdot t)\n",
        "\\end{equation}\n",
        "\n",
        "con $a \\in \\mathbb{R}$. La señal $s(t)$ es\n",
        "\n",
        "* estirada para $0 < a < 1$\n",
        "* comprimida $a > 1$\n",
        "* invertida y escalada para $a < 0$\n",
        "\n",
        "Una aplicación de escalado temporal en el procesamiento de la señal es la escala de las señales estándar y el modelado del [efecto Doppler](https://en.wikipedia.org/wiki/Doppler_effect)."
      ]
    },
    {
      "cell_type": "markdown",
      "metadata": {
        "id": "hJUOJYj9OhSw"
      },
      "source": [
        "**Ejemplo**\n",
        "\n",
        "El siguiente ejemplo ilustra el escalamiento de una señal escalera $y(t) = x(a \\cdot t)$."
      ]
    },
    {
      "cell_type": "code",
      "metadata": {
        "id": "mF5vCmnAOhSz",
        "colab": {
          "base_uri": "https://localhost:8080/",
          "height": 297
        },
        "outputId": "134b7537-f575-4344-ca2a-2e91095d7085"
      },
      "source": [
        "a = sym.symbols('a', real=True)\n",
        "y = x.subs(t, a*t)\n",
        "\n",
        "px = sym.plot(x, (t, -7, 7), ylim=[-0.2, 1.2], ylabel=r'$y(t)$', show=False, line_color='gray')\n",
        "py = sym.plot(y.subs(a,1/2), (t, -7, 7), ylim=[-0.2, 1.2], ylabel=r'$y(t)$', show=False)\n",
        "px.extend(py)#se extiende los gráficos sobre una misma figura\n",
        "px.show()"
      ],
      "execution_count": null,
      "outputs": [
        {
          "output_type": "display_data",
          "data": {
            "image/png": "[encoded data removed]",
            "text/plain": [
              "<Figure size 432x288 with 1 Axes>"
            ]
          },
          "metadata": {
            "needs_background": "light"
          }
        }
      ]
    },
    {
      "cell_type": "markdown",
      "metadata": {
        "id": "PooF6OW4OhS7"
      },
      "source": [
        "**Ejercicio**\n",
        "\n",
        "* Modifique el ejemplo anterior para que la señal se comprima.\n",
        "* Modifique el ejemplo anterior para que la señal se escale y se invierta. ¿Qué factor de escala `a`da como resultado un       estiramiento/compresión en este contexto?  \n"
      ]
    },
    {
      "cell_type": "markdown",
      "metadata": {
        "id": "4cQnxXPFOhS-"
      },
      "source": [
        "### Desplazamiento Temporal"
      ]
    },
    {
      "cell_type": "markdown",
      "metadata": {
        "id": "bL3YRvmEOhTA"
      },
      "source": [
        "El desplazamiento temporal de una señal $s(t)$ está definido como\n",
        "\n",
        "\\begin{equation}\n",
        "x(t) = s(\\tau - t)\n",
        "\\end{equation}\n",
        "\n",
        "para $\\tau \\in \\mathbb{R}$. Como $s(\\tau - t) = s(- (t - \\tau))$ la operación espejo también se puede representar como una inversión temporal de la señal $s(t)$ seguida por un desplazamiento de $\\tau$ de la señal invertida. Para $\\tau = 0$ este resultado es solo una inversión temporal de la señal.\n",
        "\n",
        "La operación de cambio temporal puede interpretarse geométricamente como un reflejo de la señal $s(t)$ en el eje vertical $t=\\frac{\\tau}{2}$."
      ]
    },
    {
      "cell_type": "markdown",
      "metadata": {
        "id": "gHbr5o-POhTD"
      },
      "source": [
        "**Ejemplo**\n",
        "\n",
        "El siguiente ejemplo ilustra el cambio temporal $y(t) = x(\\tau - t)$ de la señal escalera $x(t)$ anteriormente introducida."
      ]
    },
    {
      "cell_type": "code",
      "metadata": {
        "id": "EZzzBAavOhTF",
        "colab": {
          "base_uri": "https://localhost:8080/",
          "height": 297
        },
        "outputId": "5a6e8be5-b908-418f-da86-d3200793f8ff"
      },
      "source": [
        "tau =-1\n",
        "y = x.subs(t, tau - t)\n",
        "\n",
        "px=sym.plot(x, (t, -7, 7), ylim=[-0.2, 1.2], ylabel=r'$y(t)$', line_color='gray', show=False)\n",
        "py=sym.plot(y, (t, -7, 7), ylim=[-0.2, 1.2], ylabel=r'$y(t)$', show=False)\n",
        "px.extend(py)\n",
        "px.show()"
      ],
      "execution_count": null,
      "outputs": [
        {
          "output_type": "display_data",
          "data": {
            "image/png": "[encoded data removed]",
            "text/plain": [
              "<Figure size 432x288 with 1 Axes>"
            ]
          },
          "metadata": {
            "needs_background": "light"
          }
        }
      ]
    },
    {
      "cell_type": "markdown",
      "metadata": {
        "id": "Ox5DfEjsOhTQ"
      },
      "source": [
        "**Ejercicio**\n",
        "\n",
        "* Para que valor de $\\tau$, ¿la señal comienza en $t=0$?\n",
        "* Realice un cambio temporal dividiendo en dos operaciones consecutivas: (i) Inversión temporal y (ii) Desplazamiento temporal."
      ]
    },
    {
      "cell_type": "markdown",
      "metadata": {
        "id": "UbQycmBdOhTU",
        "nbsphinx": "hidden"
      },
      "source": [
        "**Copyright**\n",
        "\n",
        "The notebook is provided as [Open Educational Resource](https://de.wikipedia.org/wiki/Open_Educational_Resources). Feel free to use the notebook for your own educational purposes. The text is licensed under [Creative Commons Attribution 4.0](https://creativecommons.org/licenses/by/4.0/), the code of the IPython examples under the [MIT license](https://opensource.org/licenses/MIT). Please attribute the work as follows: *Signals and Systems* by Sascha Spors."
      ]
    }
  ]
}